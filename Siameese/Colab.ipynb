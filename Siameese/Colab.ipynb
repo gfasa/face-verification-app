{
 "cells": [
  {
   "cell_type": "markdown",
   "metadata": {
    "id": "j1rm1HM_De8g"
   },
   "source": [
    "uploaded all data files in ondrive and continue training on Google Colab due to lack of gpu\n",
    "-had to change the paths."
   ]
  },
  {
   "cell_type": "code",
   "execution_count": 3,
   "metadata": {
    "colab": {
     "base_uri": "https://localhost:8080/"
    },
    "executionInfo": {
     "elapsed": 15270,
     "status": "ok",
     "timestamp": 1688409664449,
     "user": {
      "displayName": "ΓΕΩΡΓΙΟΣ ΦΑΣΑΚΗΣ",
      "userId": "03718617864907494363"
     },
     "user_tz": -180
    },
    "id": "IJmlAz_5Dn_S",
    "outputId": "e4991ca8-576f-4b24-c838-f7225bbe80f5"
   },
   "outputs": [
    {
     "name": "stdout",
     "output_type": "stream",
     "text": [
      "Mounted at /content/drive\n"
     ]
    }
   ],
   "source": [
    "from google.colab import drive\n",
    "drive.mount('/content/drive')"
   ]
  },
  {
   "cell_type": "code",
   "execution_count": 37,
   "metadata": {
    "executionInfo": {
     "elapsed": 255,
     "status": "ok",
     "timestamp": 1688411195237,
     "user": {
      "displayName": "ΓΕΩΡΓΙΟΣ ΦΑΣΑΚΗΣ",
      "userId": "03718617864907494363"
     },
     "user_tz": -180
    },
    "id": "Hc1VNXA9iUAh"
   },
   "outputs": [],
   "source": [
    "#Importing all libraries\n",
    "from tensorflow.keras.models import Model\n",
    "from tensorflow.keras.layers import Layer, Conv2D, Dense, MaxPooling2D, Input, Flatten\n",
    "from tensorflow.keras.metrics import Precision, Recall\n",
    "from tensorflow.keras.utils import plot_model\n",
    "import tensorflow as tf\n",
    "import os\n",
    "import cv2\n",
    "import random\n",
    "import numpy as np\n",
    "from matplotlib import pyplot as plt\n",
    "import uuid"
   ]
  },
  {
   "cell_type": "code",
   "execution_count": 4,
   "metadata": {
    "executionInfo": {
     "elapsed": 267,
     "status": "ok",
     "timestamp": 1688409672068,
     "user": {
      "displayName": "ΓΕΩΡΓΙΟΣ ΦΑΣΑΚΗΣ",
      "userId": "03718617864907494363"
     },
     "user_tz": -180
    },
    "id": "ADSfiBRMipCH"
   },
   "outputs": [],
   "source": [
    "# Setup Paths\n",
    "POS_PATH = os.path.join('/content/drive/MyDrive/siameese/data','/content/drive/MyDrive/siameese/data/anchor')\n",
    "NEG_PATH = os.path.join('/content/drive/MyDrive/siameese/data','/content/drive/MyDrive/siameese/data/negative2')\n",
    "ANC_PATH = os.path.join('/content/drive/MyDrive/siameese/data', '/content/drive/MyDrive/siameese/data/positive')\n",
    "VER_PATH = os.path.join('/content/drive/MyDrive/siameese/application_data', '/content/drive/MyDrive/siameese/application_data/verification_images')\n",
    "INP_PATH = os.path.join('/content/drive/MyDrive/siameese/application_data', '/content/drive/MyDrive/siameese/application_data/input_image')"
   ]
  },
  {
   "cell_type": "code",
   "execution_count": 5,
   "metadata": {
    "colab": {
     "base_uri": "https://localhost:8080/"
    },
    "executionInfo": {
     "elapsed": 254,
     "status": "ok",
     "timestamp": 1688409675768,
     "user": {
      "displayName": "ΓΕΩΡΓΙΟΣ ΦΑΣΑΚΗΣ",
      "userId": "03718617864907494363"
     },
     "user_tz": -180
    },
    "id": "S8fjOzTPQpOU",
    "outputId": "1c9b8226-9388-496b-d5b9-fd0712b72ced"
   },
   "outputs": [
    {
     "data": {
      "text/plain": [
       "[PhysicalDevice(name='/physical_device:GPU:0', device_type='GPU')]"
      ]
     },
     "execution_count": 5,
     "metadata": {},
     "output_type": "execute_result"
    }
   ],
   "source": [
    "tf.config.list_physical_devices('GPU')"
   ]
  },
  {
   "cell_type": "code",
   "execution_count": 6,
   "metadata": {
    "colab": {
     "base_uri": "https://localhost:8080/"
    },
    "executionInfo": {
     "elapsed": 2891,
     "status": "ok",
     "timestamp": 1688409680928,
     "user": {
      "displayName": "ΓΕΩΡΓΙΟΣ ΦΑΣΑΚΗΣ",
      "userId": "03718617864907494363"
     },
     "user_tz": -180
    },
    "id": "WDes36VHQ-X0",
    "outputId": "23db1716-e9b2-4209-b48d-2091a40f23cc"
   },
   "outputs": [
    {
     "name": "stderr",
     "output_type": "stream",
     "text": [
      "WARNING:tensorflow:From <ipython-input-6-4ed6d55a490b>:1: is_gpu_available (from tensorflow.python.framework.test_util) is deprecated and will be removed in a future version.\n",
      "Instructions for updating:\n",
      "Use `tf.config.list_physical_devices('GPU')` instead.\n"
     ]
    },
    {
     "data": {
      "text/plain": [
       "True"
      ]
     },
     "execution_count": 6,
     "metadata": {},
     "output_type": "execute_result"
    }
   ],
   "source": [
    "tf.test.is_gpu_available(cuda_only=False,min_cuda_compute_capability=None)"
   ]
  },
  {
   "cell_type": "code",
   "execution_count": 7,
   "metadata": {
    "executionInfo": {
     "elapsed": 8627,
     "status": "ok",
     "timestamp": 1688409690803,
     "user": {
      "displayName": "ΓΕΩΡΓΙΟΣ ΦΑΣΑΚΗΣ",
      "userId": "03718617864907494363"
     },
     "user_tz": -180
    },
    "id": "fdv7RT-QGS50"
   },
   "outputs": [],
   "source": [
    "anchor = tf.data.Dataset.list_files(ANC_PATH+'/*.jpg').take(580)\n",
    "positive = tf.data.Dataset.list_files(POS_PATH+'/*.jpg').take(580)\n",
    "negative = tf.data.Dataset.list_files(NEG_PATH+'/*.jpg').take(580)"
   ]
  },
  {
   "cell_type": "code",
   "execution_count": 8,
   "metadata": {
    "executionInfo": {
     "elapsed": 237,
     "status": "ok",
     "timestamp": 1688409691936,
     "user": {
      "displayName": "ΓΕΩΡΓΙΟΣ ΦΑΣΑΚΗΣ",
      "userId": "03718617864907494363"
     },
     "user_tz": -180
    },
    "id": "LEvi1CU8Gzwd"
   },
   "outputs": [],
   "source": [
    "positives = tf.data.Dataset.zip((anchor,positive,tf.data.Dataset.from_tensor_slices(tf.ones(len(anchor)))))\n",
    "negatives = tf.data.Dataset.zip((anchor,negative,tf.data.Dataset.from_tensor_slices(tf.zeros(len(anchor)))))\n",
    "data = positives.concatenate(negatives)"
   ]
  },
  {
   "cell_type": "code",
   "execution_count": 9,
   "metadata": {
    "executionInfo": {
     "elapsed": 3,
     "status": "ok",
     "timestamp": 1688409694813,
     "user": {
      "displayName": "ΓΕΩΡΓΙΟΣ ΦΑΣΑΚΗΣ",
      "userId": "03718617864907494363"
     },
     "user_tz": -180
    },
    "id": "Uk32Ix5rHZOa"
   },
   "outputs": [],
   "source": [
    "def preprocess(file_path):\n",
    "    byte_img = tf.io.read_file(file_path)\n",
    "    img = tf.io.decode_jpeg(byte_img)\n",
    "    img = tf.image.resize(img, (105,105))\n",
    "    img = img / 255.0\n",
    "    return img"
   ]
  },
  {
   "cell_type": "code",
   "execution_count": 10,
   "metadata": {
    "executionInfo": {
     "elapsed": 3,
     "status": "ok",
     "timestamp": 1688409697007,
     "user": {
      "displayName": "ΓΕΩΡΓΙΟΣ ΦΑΣΑΚΗΣ",
      "userId": "03718617864907494363"
     },
     "user_tz": -180
    },
    "id": "fljInp0dG2rG"
   },
   "outputs": [],
   "source": [
    "def preprocess_twin(input_img, validation_img, label):\n",
    "    return(preprocess(input_img), preprocess(validation_img), label)\n"
   ]
  },
  {
   "cell_type": "code",
   "execution_count": 11,
   "metadata": {
    "executionInfo": {
     "elapsed": 260,
     "status": "ok",
     "timestamp": 1688409698952,
     "user": {
      "displayName": "ΓΕΩΡΓΙΟΣ ΦΑΣΑΚΗΣ",
      "userId": "03718617864907494363"
     },
     "user_tz": -180
    },
    "id": "8mWGehI1G5Ir"
   },
   "outputs": [],
   "source": [
    "data = data.map(preprocess_twin)\n",
    "data = data.cache()\n",
    "data = data.shuffle(buffer_size=10000)"
   ]
  },
  {
   "cell_type": "code",
   "execution_count": 12,
   "metadata": {
    "executionInfo": {
     "elapsed": 5,
     "status": "ok",
     "timestamp": 1688409699954,
     "user": {
      "displayName": "ΓΕΩΡΓΙΟΣ ΦΑΣΑΚΗΣ",
      "userId": "03718617864907494363"
     },
     "user_tz": -180
    },
    "id": "0uPkNn5eHdaZ"
   },
   "outputs": [],
   "source": [
    "train_data = data.take(round(len(data)*0.7))\n",
    "train_data = train_data.batch(16)\n",
    "train_data = train_data.prefetch(8)"
   ]
  },
  {
   "cell_type": "code",
   "execution_count": 13,
   "metadata": {
    "executionInfo": {
     "elapsed": 251,
     "status": "ok",
     "timestamp": 1688409701382,
     "user": {
      "displayName": "ΓΕΩΡΓΙΟΣ ΦΑΣΑΚΗΣ",
      "userId": "03718617864907494363"
     },
     "user_tz": -180
    },
    "id": "5XZFcdCGHhvR"
   },
   "outputs": [],
   "source": [
    "test_data = data.skip(round(len(data)*0.7))\n",
    "test_data = test_data.take(round(len(data)*0.3))\n",
    "test_data = test_data.batch(16, drop_remainder =True)\n",
    "test_data = test_data.prefetch(8)"
   ]
  },
  {
   "cell_type": "code",
   "execution_count": 14,
   "metadata": {
    "executionInfo": {
     "elapsed": 3,
     "status": "ok",
     "timestamp": 1688409702688,
     "user": {
      "displayName": "ΓΕΩΡΓΙΟΣ ΦΑΣΑΚΗΣ",
      "userId": "03718617864907494363"
     },
     "user_tz": -180
    },
    "id": "d9gflE6tHlFr"
   },
   "outputs": [],
   "source": [
    "def make_embedding():\n",
    "    inp = Input(shape=(105,105,3), name='input_image')\n",
    "\n",
    "    c1 = Conv2D(64, (10,10), activation='relu')(inp)\n",
    "    m1 = MaxPooling2D(64, (2,2), padding='same')(c1)\n",
    "\n",
    "    c2 = Conv2D(128, (7,7), activation='relu')(m1)\n",
    "    m2 = MaxPooling2D(64, (2,2), padding='same')(c2)\n",
    "\n",
    "    c3 = Conv2D(128, (4,4), activation='relu')(m2)\n",
    "    m3 = MaxPooling2D(64, (2,2), padding='same')(c3)\n",
    "\n",
    "    c4 = Conv2D(256, (4,4), activation='relu')(m3)\n",
    "    f1 = Flatten()(c4)\n",
    "    d1 = Dense(4096, activation='sigmoid')(f1)\n",
    "\n",
    "\n",
    "    return Model(inputs=[inp], outputs=[d1], name='embedding')"
   ]
  },
  {
   "cell_type": "code",
   "execution_count": 15,
   "metadata": {
    "executionInfo": {
     "elapsed": 287,
     "status": "ok",
     "timestamp": 1688409704634,
     "user": {
      "displayName": "ΓΕΩΡΓΙΟΣ ΦΑΣΑΚΗΣ",
      "userId": "03718617864907494363"
     },
     "user_tz": -180
    },
    "id": "yUSqVsSYHmCh"
   },
   "outputs": [],
   "source": [
    "embedding = make_embedding()"
   ]
  },
  {
   "cell_type": "code",
   "execution_count": 16,
   "metadata": {
    "colab": {
     "base_uri": "https://localhost:8080/"
    },
    "executionInfo": {
     "elapsed": 293,
     "status": "ok",
     "timestamp": 1688409706658,
     "user": {
      "displayName": "ΓΕΩΡΓΙΟΣ ΦΑΣΑΚΗΣ",
      "userId": "03718617864907494363"
     },
     "user_tz": -180
    },
    "id": "g-MK3tQKHplL",
    "outputId": "3a062431-b534-4c7d-c8fa-4e5c9ec2b4fd"
   },
   "outputs": [
    {
     "name": "stdout",
     "output_type": "stream",
     "text": [
      "Model: \"embedding\"\n",
      "_________________________________________________________________\n",
      " Layer (type)                Output Shape              Param #   \n",
      "=================================================================\n",
      " input_image (InputLayer)    [(None, 105, 105, 3)]     0         \n",
      "                                                                 \n",
      " conv2d (Conv2D)             (None, 96, 96, 64)        19264     \n",
      "                                                                 \n",
      " max_pooling2d (MaxPooling2D  (None, 48, 48, 64)       0         \n",
      " )                                                               \n",
      "                                                                 \n",
      " conv2d_1 (Conv2D)           (None, 42, 42, 128)       401536    \n",
      "                                                                 \n",
      " max_pooling2d_1 (MaxPooling  (None, 21, 21, 128)      0         \n",
      " 2D)                                                             \n",
      "                                                                 \n",
      " conv2d_2 (Conv2D)           (None, 18, 18, 128)       262272    \n",
      "                                                                 \n",
      " max_pooling2d_2 (MaxPooling  (None, 9, 9, 128)        0         \n",
      " 2D)                                                             \n",
      "                                                                 \n",
      " conv2d_3 (Conv2D)           (None, 6, 6, 256)         524544    \n",
      "                                                                 \n",
      " flatten (Flatten)           (None, 9216)              0         \n",
      "                                                                 \n",
      " dense (Dense)               (None, 4096)              37752832  \n",
      "                                                                 \n",
      "=================================================================\n",
      "Total params: 38,960,448\n",
      "Trainable params: 38,960,448\n",
      "Non-trainable params: 0\n",
      "_________________________________________________________________\n"
     ]
    }
   ],
   "source": [
    "embedding.summary()"
   ]
  },
  {
   "cell_type": "code",
   "execution_count": 17,
   "metadata": {
    "executionInfo": {
     "elapsed": 226,
     "status": "ok",
     "timestamp": 1688409710668,
     "user": {
      "displayName": "ΓΕΩΡΓΙΟΣ ΦΑΣΑΚΗΣ",
      "userId": "03718617864907494363"
     },
     "user_tz": -180
    },
    "id": "a5CIN9j3Hsek"
   },
   "outputs": [],
   "source": [
    "class L1Dist(Layer):\n",
    "    def __init__(self, **kwargs):\n",
    "        super().__init__()\n",
    "\n",
    "    def call(self, input_embedding, validation_embedding):\n",
    "        return tf.math.abs(input_embedding - validation_embedding)"
   ]
  },
  {
   "cell_type": "code",
   "execution_count": 18,
   "metadata": {
    "executionInfo": {
     "elapsed": 219,
     "status": "ok",
     "timestamp": 1688409713173,
     "user": {
      "displayName": "ΓΕΩΡΓΙΟΣ ΦΑΣΑΚΗΣ",
      "userId": "03718617864907494363"
     },
     "user_tz": -180
    },
    "id": "4__Y8HlyHu-S"
   },
   "outputs": [],
   "source": [
    "def make_siamese_model():\n",
    "\n",
    "    # Handle inputs\n",
    "    input_image = Input(name='input_img', shape=(105,105,3))\n",
    "    validation_image = Input(name='validaption_img', shape=(105,105,3))\n",
    "\n",
    "\n",
    "    siamese_layer = L1Dist()\n",
    "    siamese_layer._name = 'distance'\n",
    "    distances = siamese_layer(embedding(input_image), embedding(validation_image))\n",
    "\n",
    "    # Classification Layer\n",
    "    classifier = Dense(1, activation='sigmoid')(distances)\n",
    "\n",
    "    return Model(inputs=[input_image, validation_image], outputs=classifier, name='siamese_network')"
   ]
  },
  {
   "cell_type": "code",
   "execution_count": 19,
   "metadata": {
    "executionInfo": {
     "elapsed": 228,
     "status": "ok",
     "timestamp": 1688409714977,
     "user": {
      "displayName": "ΓΕΩΡΓΙΟΣ ΦΑΣΑΚΗΣ",
      "userId": "03718617864907494363"
     },
     "user_tz": -180
    },
    "id": "JvE-mFwVHxJS"
   },
   "outputs": [],
   "source": [
    "siamese_model = make_siamese_model()"
   ]
  },
  {
   "cell_type": "code",
   "execution_count": 20,
   "metadata": {
    "executionInfo": {
     "elapsed": 3,
     "status": "ok",
     "timestamp": 1688409716157,
     "user": {
      "displayName": "ΓΕΩΡΓΙΟΣ ΦΑΣΑΚΗΣ",
      "userId": "03718617864907494363"
     },
     "user_tz": -180
    },
    "id": "jZLYZfT_HzfK"
   },
   "outputs": [],
   "source": [
    "binary_cross_loss = tf.losses.BinaryCrossentropy()\n",
    "opt = tf.keras.optimizers.Adam(0.0001)"
   ]
  },
  {
   "cell_type": "code",
   "execution_count": 21,
   "metadata": {
    "executionInfo": {
     "elapsed": 219,
     "status": "ok",
     "timestamp": 1688409718396,
     "user": {
      "displayName": "ΓΕΩΡΓΙΟΣ ΦΑΣΑΚΗΣ",
      "userId": "03718617864907494363"
     },
     "user_tz": -180
    },
    "id": "2TbUuA-vH2cd"
   },
   "outputs": [],
   "source": [
    "checkpoint_dir = 'training_checkpoints'\n",
    "checkpoint_prefix = os.path.join(checkpoint_dir, 'ckpt')\n",
    "checkpoint = tf.train.Checkpoint(opt=opt, siamese_model=siamese_model)"
   ]
  },
  {
   "cell_type": "code",
   "execution_count": 22,
   "metadata": {
    "executionInfo": {
     "elapsed": 230,
     "status": "ok",
     "timestamp": 1688409720164,
     "user": {
      "displayName": "ΓΕΩΡΓΙΟΣ ΦΑΣΑΚΗΣ",
      "userId": "03718617864907494363"
     },
     "user_tz": -180
    },
    "id": "kRhjNbPpIK5a"
   },
   "outputs": [],
   "source": [
    "@tf.function\n",
    "def train_step(batch):\n",
    "\n",
    "    # Record all operations\n",
    "    with tf.GradientTape() as tape:\n",
    "        X = batch[:2]\n",
    "        y = batch[2]\n",
    "\n",
    "        yhat = siamese_model(X, training=True)\n",
    "        loss = binary_cross_loss(y, yhat)\n",
    "\n",
    "    # Calculate gradients\n",
    "    grad = tape.gradient(loss, siamese_model.trainable_variables)\n",
    "\n",
    "    # Calculate updated weights and apply to siamese model\n",
    "    opt.apply_gradients(zip(grad, siamese_model.trainable_variables))\n",
    "\n",
    "    return loss"
   ]
  },
  {
   "cell_type": "code",
   "execution_count": 23,
   "metadata": {
    "executionInfo": {
     "elapsed": 3,
     "status": "ok",
     "timestamp": 1688409722460,
     "user": {
      "displayName": "ΓΕΩΡΓΙΟΣ ΦΑΣΑΚΗΣ",
      "userId": "03718617864907494363"
     },
     "user_tz": -180
    },
    "id": "OhxRkQjUIMDD"
   },
   "outputs": [],
   "source": [
    "def train(data, EPOCHS):\n",
    "    # loop through epochs\n",
    "    for epoch in range(1, EPOCHS+1):\n",
    "        print('\\n Epoch {}/{}'.format(epoch,EPOCHS))\n",
    "        progbar = tf.keras.utils.Progbar(len(data))\n",
    "\n",
    "        r = Recall()\n",
    "        p = Precision()\n",
    "\n",
    "        # Loop through each batch\n",
    "        for idx, batch in enumerate(data):\n",
    "            loss = train_step(batch)\n",
    "            yhat = siamese_model.predict(batch[:2], verbose=0)\n",
    "            r.update_state(batch[2], yhat)\n",
    "            p.update_state(batch[2], yhat)\n",
    "            progbar.update(idx+1)\n",
    "        print(loss.numpy(), r.result().numpy(), p.result().numpy())\n",
    "\n",
    "        if epoch % 10 == 0:\n",
    "            checkpoint.save(file_prefix=checkpoint_prefix)"
   ]
  },
  {
   "cell_type": "code",
   "execution_count": 24,
   "metadata": {
    "executionInfo": {
     "elapsed": 231,
     "status": "ok",
     "timestamp": 1688409885094,
     "user": {
      "displayName": "ΓΕΩΡΓΙΟΣ ΦΑΣΑΚΗΣ",
      "userId": "03718617864907494363"
     },
     "user_tz": -180
    },
    "id": "tfqhAKwzIP2V"
   },
   "outputs": [],
   "source": [
    "EPOCHS = 20"
   ]
  },
  {
   "cell_type": "code",
   "execution_count": 25,
   "metadata": {
    "colab": {
     "base_uri": "https://localhost:8080/"
    },
    "executionInfo": {
     "elapsed": 600788,
     "status": "ok",
     "timestamp": 1688410611991,
     "user": {
      "displayName": "ΓΕΩΡΓΙΟΣ ΦΑΣΑΚΗΣ",
      "userId": "03718617864907494363"
     },
     "user_tz": -180
    },
    "id": "D4PLMgj6ISj0",
    "outputId": "c1f5027f-3f6c-4d07-86cc-6570b688a4d7"
   },
   "outputs": [
    {
     "name": "stdout",
     "output_type": "stream",
     "text": [
      "\n",
      " Epoch 1/20\n",
      "51/51 [==============================] - 242s 364ms/step\n",
      "0.33480522 0.5301205 0.88709676\n",
      "\n",
      " Epoch 2/20\n",
      "51/51 [==============================] - 16s 324ms/step\n",
      "0.31472635 0.83762884 0.9587021\n",
      "\n",
      " Epoch 3/20\n",
      "51/51 [==============================] - 17s 328ms/step\n",
      "0.21206002 0.8861386 0.9781421\n",
      "\n",
      " Epoch 4/20\n",
      "51/51 [==============================] - 17s 335ms/step\n",
      "0.18067916 0.9282178 0.984252\n",
      "\n",
      " Epoch 5/20\n",
      "51/51 [==============================] - 16s 322ms/step\n",
      "0.24540949 0.92195123 0.97172236\n",
      "\n",
      " Epoch 6/20\n",
      "51/51 [==============================] - 17s 329ms/step\n",
      "0.044288818 0.95760596 0.9846154\n",
      "\n",
      " Epoch 7/20\n",
      "51/51 [==============================] - 17s 329ms/step\n",
      "0.32630688 0.9401496 0.9817708\n",
      "\n",
      " Epoch 8/20\n",
      "51/51 [==============================] - 17s 328ms/step\n",
      "0.08683103 0.95555556 0.9897698\n",
      "\n",
      " Epoch 9/20\n",
      "51/51 [==============================] - 17s 327ms/step\n",
      "0.12041372 0.9513382 0.99491096\n",
      "\n",
      " Epoch 10/20\n",
      "51/51 [==============================] - 17s 336ms/step\n",
      "0.15742323 0.91133004 0.98930484\n",
      "\n",
      " Epoch 11/20\n",
      "51/51 [==============================] - 16s 321ms/step\n",
      "0.13527884 0.9518072 0.9899749\n",
      "\n",
      " Epoch 12/20\n",
      "51/51 [==============================] - 16s 318ms/step\n",
      "0.12174499 0.97029704 0.989899\n",
      "\n",
      " Epoch 13/20\n",
      "51/51 [==============================] - 17s 330ms/step\n",
      "0.16770661 0.9698492 0.9948454\n",
      "\n",
      " Epoch 14/20\n",
      "51/51 [==============================] - 17s 333ms/step\n",
      "0.07226398 0.9484536 0.9945946\n",
      "\n",
      " Epoch 15/20\n",
      "51/51 [==============================] - 17s 327ms/step\n",
      "0.05588157 0.97772276 1.0\n",
      "\n",
      " Epoch 16/20\n",
      "51/51 [==============================] - 16s 317ms/step\n",
      "0.11224658 0.97461927 1.0\n",
      "\n",
      " Epoch 17/20\n",
      "51/51 [==============================] - 17s 332ms/step\n",
      "0.011814963 0.9755501 0.9975\n",
      "\n",
      " Epoch 18/20\n",
      "51/51 [==============================] - 17s 332ms/step\n",
      "0.11422357 0.96585363 1.0\n",
      "\n",
      " Epoch 19/20\n",
      "51/51 [==============================] - 17s 323ms/step\n",
      "0.011735386 0.9854369 0.997543\n",
      "\n",
      " Epoch 20/20\n",
      "51/51 [==============================] - 16s 324ms/step\n",
      "0.009447202 0.9780488 1.0\n"
     ]
    }
   ],
   "source": [
    "train(train_data, EPOCHS)"
   ]
  },
  {
   "cell_type": "code",
   "execution_count": 27,
   "metadata": {
    "colab": {
     "base_uri": "https://localhost:8080/"
    },
    "executionInfo": {
     "elapsed": 3056,
     "status": "ok",
     "timestamp": 1688410622887,
     "user": {
      "displayName": "ΓΕΩΡΓΙΟΣ ΦΑΣΑΚΗΣ",
      "userId": "03718617864907494363"
     },
     "user_tz": -180
    },
    "id": "y6ZH0B4UIWpk",
    "outputId": "f3bdd7fa-7107-4b97-f2c9-58a74edf2dff"
   },
   "outputs": [
    {
     "name": "stdout",
     "output_type": "stream",
     "text": [
      "0.9580838 1.0\n"
     ]
    }
   ],
   "source": [
    "r = Recall()\n",
    "p = Precision()\n",
    "\n",
    "for test_input, test_val, y_true in test_data.as_numpy_iterator():\n",
    "    yhat = siamese_model.predict([test_input, test_val], verbose=0)\n",
    "    r.update_state(y_true, yhat)\n",
    "    p.update_state(y_true, yhat)\n",
    "\n",
    "print(r.result().numpy(), p.result().numpy())"
   ]
  },
  {
   "cell_type": "code",
   "execution_count": 31,
   "metadata": {
    "colab": {
     "base_uri": "https://localhost:8080/",
     "height": 434
    },
    "executionInfo": {
     "elapsed": 721,
     "status": "ok",
     "timestamp": 1688411080597,
     "user": {
      "displayName": "ΓΕΩΡΓΙΟΣ ΦΑΣΑΚΗΣ",
      "userId": "03718617864907494363"
     },
     "user_tz": -180
    },
    "id": "oIkv7KjYIYoC",
    "outputId": "d4e026ea-6edb-4478-bb66-cfcfed157596"
   },
   "outputs": [
    {
     "data": {
      "image/png": "[encoded data removed]",
      "text/plain": [
       "<Figure size 1000x800 with 2 Axes>"
      ]
     },
     "metadata": {},
     "output_type": "display_data"
    },
    {
     "name": "stdout",
     "output_type": "stream",
     "text": [
      "1.0\n"
     ]
    }
   ],
   "source": [
    "\n",
    "plt.figure(figsize=(10,8))\n",
    "plt.subplot(1,2,1)\n",
    "plt.imshow(test_input[8])\n",
    "plt.subplot(1,2,2)\n",
    "plt.imshow(test_val[8])\n",
    "plt.show()\n",
    "print(y_true[8])"
   ]
  },
  {
   "cell_type": "code",
   "execution_count": 32,
   "metadata": {
    "colab": {
     "base_uri": "https://localhost:8080/"
    },
    "executionInfo": {
     "elapsed": 5999,
     "status": "ok",
     "timestamp": 1688411095543,
     "user": {
      "displayName": "ΓΕΩΡΓΙΟΣ ΦΑΣΑΚΗΣ",
      "userId": "03718617864907494363"
     },
     "user_tz": -180
    },
    "id": "mpMhI5zwIbAq",
    "outputId": "c9976a44-6dc7-4368-dad1-2035db5ed39a"
   },
   "outputs": [
    {
     "name": "stderr",
     "output_type": "stream",
     "text": [
      "WARNING:tensorflow:Compiled the loaded model, but the compiled metrics have yet to be built. `model.compile_metrics` will be empty until you train or evaluate the model.\n"
     ]
    }
   ],
   "source": [
    "siamese_model.save('/content/drive/MyDrive/siameese/siamesemodel_v2.h5')"
   ]
  },
  {
   "cell_type": "code",
   "execution_count": 33,
   "metadata": {
    "colab": {
     "base_uri": "https://localhost:8080/"
    },
    "executionInfo": {
     "elapsed": 745,
     "status": "ok",
     "timestamp": 1688411096285,
     "user": {
      "displayName": "ΓΕΩΡΓΙΟΣ ΦΑΣΑΚΗΣ",
      "userId": "03718617864907494363"
     },
     "user_tz": -180
    },
    "id": "n-_Zi_BCIf0P",
    "outputId": "2e5eeac9-687d-4b12-8629-577c45f77d04"
   },
   "outputs": [
    {
     "name": "stderr",
     "output_type": "stream",
     "text": [
      "WARNING:tensorflow:No training configuration found in the save file, so the model was *not* compiled. Compile it manually.\n"
     ]
    }
   ],
   "source": [
    "model = tf.keras.models.load_model('/content/drive/MyDrive/siameese/siamesemodel_v2.h5', custom_objects={'L1Dist':L1Dist, 'BinaryCrossentropy':tf.losses.BinaryCrossentropy})"
   ]
  },
  {
   "cell_type": "code",
   "execution_count": 34,
   "metadata": {
    "colab": {
     "base_uri": "https://localhost:8080/"
    },
    "executionInfo": {
     "elapsed": 649,
     "status": "ok",
     "timestamp": 1688411096932,
     "user": {
      "displayName": "ΓΕΩΡΓΙΟΣ ΦΑΣΑΚΗΣ",
      "userId": "03718617864907494363"
     },
     "user_tz": -180
    },
    "id": "P77kItqGIiB0",
    "outputId": "0ed2cb36-b2f9-4e78-f021-d88c454d2ac6"
   },
   "outputs": [
    {
     "name": "stdout",
     "output_type": "stream",
     "text": [
      "1/1 [==============================] - 0s 206ms/step\n"
     ]
    },
    {
     "data": {
      "text/plain": [
       "array([[9.9998605e-01],\n",
       "       [7.8988123e-01],\n",
       "       [9.9853539e-01],\n",
       "       [1.3527639e-07],\n",
       "       [1.5894433e-04],\n",
       "       [2.9776963e-08],\n",
       "       [1.7897035e-05],\n",
       "       [1.7857965e-07],\n",
       "       [9.9999905e-01],\n",
       "       [9.9990404e-01],\n",
       "       [6.1096266e-08],\n",
       "       [8.7258881e-01],\n",
       "       [9.8986650e-01],\n",
       "       [8.8383532e-01],\n",
       "       [1.3483475e-07],\n",
       "       [9.4568031e-06]], dtype=float32)"
      ]
     },
     "execution_count": 34,
     "metadata": {},
     "output_type": "execute_result"
    }
   ],
   "source": [
    "model.predict([test_input, test_val])"
   ]
  },
  {
   "cell_type": "code",
   "execution_count": 35,
   "metadata": {
    "colab": {
     "base_uri": "https://localhost:8080/"
    },
    "executionInfo": {
     "elapsed": 301,
     "status": "ok",
     "timestamp": 1688411102796,
     "user": {
      "displayName": "ΓΕΩΡΓΙΟΣ ΦΑΣΑΚΗΣ",
      "userId": "03718617864907494363"
     },
     "user_tz": -180
    },
    "id": "jIWJUZejIkRj",
    "outputId": "a9ad600b-9861-432c-e283-bad358d7d853"
   },
   "outputs": [
    {
     "name": "stdout",
     "output_type": "stream",
     "text": [
      "Model: \"siamese_network\"\n",
      "__________________________________________________________________________________________________\n",
      " Layer (type)                   Output Shape         Param #     Connected to                     \n",
      "==================================================================================================\n",
      " input_img (InputLayer)         [(None, 105, 105, 3  0           []                               \n",
      "                                )]                                                                \n",
      "                                                                                                  \n",
      " validaption_img (InputLayer)   [(None, 105, 105, 3  0           []                               \n",
      "                                )]                                                                \n",
      "                                                                                                  \n",
      " embedding (Functional)         (None, 4096)         38960448    ['input_img[0][0]',              \n",
      "                                                                  'validaption_img[0][0]']        \n",
      "                                                                                                  \n",
      " l1_dist_1 (L1Dist)             (None, 4096)         0           ['embedding[0][0]',              \n",
      "                                                                  'embedding[1][0]']              \n",
      "                                                                                                  \n",
      " dense_1 (Dense)                (None, 1)            4097        ['l1_dist_1[0][0]']              \n",
      "                                                                                                  \n",
      "==================================================================================================\n",
      "Total params: 38,964,545\n",
      "Trainable params: 38,964,545\n",
      "Non-trainable params: 0\n",
      "__________________________________________________________________________________________________\n"
     ]
    }
   ],
   "source": [
    "model.summary()"
   ]
  },
  {
   "cell_type": "code",
   "execution_count": 38,
   "metadata": {
    "colab": {
     "base_uri": "https://localhost:8080/",
     "height": 422
    },
    "executionInfo": {
     "elapsed": 485,
     "status": "ok",
     "timestamp": 1688411201270,
     "user": {
      "displayName": "ΓΕΩΡΓΙΟΣ ΦΑΣΑΚΗΣ",
      "userId": "03718617864907494363"
     },
     "user_tz": -180
    },
    "id": "jmwpwcztEc0w",
    "outputId": "b6aa5f1c-34ad-47bf-ef3f-e13e36622dba"
   },
   "outputs": [
    {
     "data": {
      "image/png": "[encoded data removed]",
      "text/plain": [
       "<IPython.core.display.Image object>"
      ]
     },
     "execution_count": 38,
     "metadata": {},
     "output_type": "execute_result"
    }
   ],
   "source": [
    "# Plot the model structure\n",
    "plot_model(model, show_shapes=True)"
   ]
  },
  {
   "cell_type": "markdown",
   "metadata": {
    "id": "m6WZmv3aq9N_"
   },
   "source": [
    "downloaded the model and continue the veryfication on the local environment.\n"
   ]
  },
  {
   "cell_type": "code",
   "execution_count": null,
   "metadata": {
    "id": "6tby3Sk4De80"
   },
   "outputs": [],
   "source": []
  }
 ],
 "metadata": {
  "accelerator": "GPU",
  "colab": {
   "gpuType": "T4",
   "provenance": []
  },
  "kernelspec": {
   "display_name": "Python 3 (ipykernel)",
   "language": "python",
   "name": "python3"
  },
  "language_info": {
   "codemirror_mode": {
    "name": "ipython",
    "version": 3
   },
   "file_extension": ".py",
   "mimetype": "text/x-python",
   "name": "python",
   "nbconvert_exporter": "python",
   "pygments_lexer": "ipython3",
   "version": "3.8.10"
  }
 },
 "nbformat": 4,
 "nbformat_minor": 1
}
